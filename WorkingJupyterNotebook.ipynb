{
    "cells": [
        {
            "cell_type": "markdown",
            "metadata": {},
            "source": [
                "Hi Mike, this is a markdown cell\n",
                "\n",
                "you need to install the Jupyter from microsoft extension in Visual Studio Code (easiest) from the left panel - plugins  \n"
            ]
        },
        {
            "cell_type": "code",
            "execution_count": 208,
            "metadata": {},
            "outputs": [
                {
                    "data": {
                        "text/plain": [
                            "10"
                        ]
                    },
                    "execution_count": 208,
                    "metadata": {},
                    "output_type": "execute_result"
                }
            ],
            "source": [
                "1+2+3+4"
            ]
        },
        {
            "cell_type": "code",
            "execution_count": 209,
            "metadata": {},
            "outputs": [],
            "source": [
                "# TODO: import needed modules\n",
                "\n",
                "from lxml import etree\n",
                "import math as m\n",
                "import numpy as np\n",
                "import pandas as pd\n",
                "import attr\n",
                "import collections \n",
                "import pathlib as pl\n",
                "import re\n",
                "from datetime import datetime\n",
                "# for colored text\n",
                "class bcolors:\n",
                "    HEADER = '\\033[95m'\n",
                "    OKBLUE = '\\033[94m'\n",
                "    OKCYAN = '\\033[96m'\n",
                "    OKGREEN = '\\033[92m'\n",
                "    WARNING = '\\033[93m'\n",
                "    FAIL = '\\033[91m'\n",
                "    ENDC = '\\033[0m'\n",
                "    BOLD = '\\033[1m'\n",
                "    UNDERLINE = '\\033[4m'\n"
            ]
        },
        {
            "cell_type": "markdown",
            "metadata": {},
            "source": [
                "File Directories can be easily copied with the following procedure:\n",
                "1) open windows files manager and go to directory\n",
                "2) on the directory press and hold the shift key and left click the mouse and select - \"Copy as path\"\n",
                "3) key press \"control v\" below"
            ]
        },
        {
            "cell_type": "code",
            "execution_count": 213,
            "metadata": {},
            "outputs": [
                {
                    "data": {
                        "text/plain": [
                            "WindowsPath('//greenerhomesbc.ca@SSL@2078/DavWWWRoot/Personal Folders/Dion Hackett/EA Training Files/5EXXD00007 - Solo 5/5EXXD00007/5EXXD00007.h2k')"
                        ]
                    },
                    "execution_count": 213,
                    "metadata": {},
                    "output_type": "execute_result"
                }
            ],
            "source": [
                "# TODO: input QC dir\n",
                "inputDir=input(\"Input Dir Path to Be Checked\")\n",
                "inputDir=pl.Path(inputDir)\n",
                "# print(inputDir)\n",
                "inputDir"
            ]
        },
        {
            "cell_type": "code",
            "execution_count": 214,
            "metadata": {},
            "outputs": [
                {
                    "data": {
                        "text/plain": [
                            "(True, '2021-10-19 18:02:37', 544866)"
                        ]
                    },
                    "execution_count": 214,
                    "metadata": {},
                    "output_type": "execute_result"
                }
            ],
            "source": [
                "import pytz\n",
                "tz = pytz.timezone('US/PACIFIC')\n",
                "ts=inputDir.stat().st_atime\n",
                "\n",
                "ts=datetime.fromtimestamp(ts)#.strftime('%Y-%m-%d %H:%M:%S')\n",
                "ts=ts.astimezone(tz)\n",
                "# datetime.astimezone()\n",
                "inputDir.exists(),ts.strftime('%Y-%m-%d %H:%M:%S'),inputDir.stat().st_size\n"
            ]
        },
        {
            "cell_type": "code",
            "execution_count": 215,
            "metadata": {},
            "outputs": [
                {
                    "name": "stdout",
                    "output_type": "stream",
                    "text": [
                        "H2K files:\n",
                        "jpg files:\n",
                        " \u001b[93m****************** Error number of jpg files: 0, the min is 15 *****************************\u001b[0m\n",
                        "PDF files:\n",
                        " \u001b[93m****************** Error number of pdf files: 0 *****************************\u001b[0m\n"
                    ]
                }
            ],
            "source": [
                "# TODO: check dir for h2k files\n",
                "def get_files(extensions):\n",
                "    all_files = {}\n",
                "    for ext in extensions:\n",
                "        \n",
                "        all_files[ext]=[{\"fileName\":f.name,'file':f} for f in (inputDir.glob(ext))]\n",
                "        # all_files.extend(pl.Path('.').glob(ext))\n",
                "    return all_files\n",
                "\n",
                "files = get_files(('*.h2k', '*.jpg', '*.pdf'))\n",
                "\n",
                "# files\n",
                "\n",
                "\n",
                "\n",
                "# TODO: warn of extra h2k files\n",
                "check=len (files['*.h2k'])\n",
                "print(f\"H2K files:\")\n",
                "[print(f\"      {i['fileName']}\") for i in files['*.h2k']]\n",
                "if check>1:\n",
                "    print (f\" {bcolors.WARNING}****************** Error number of h2k files: {check} *****************************{bcolors.ENDC}\")\n",
                "\n",
                "# TODO: warn of missing required photos\n",
                "check=len (files['*.jpg'])\n",
                "print(f\"jpg files:\")\n",
                "[print(f\"      {i['fileName']}\") for i in files['*.jpg']]\n",
                "minimum=15\n",
                "if check<minimum:\n",
                "    print (f\" {bcolors.WARNING}****************** Error number of jpg files: {check}, the min is {minimum} *****************************{bcolors.ENDC}\")\n",
                "\n",
                "# TODO: warn of missing ERS output files\n",
                "check=len (files['*.pdf'])\n",
                "print(f\"PDF files:\")\n",
                "[print(f\"      {i['fileName']}\") for i in files['*.pdf']]\n",
                "if check!=4:\n",
                "    print (f\" {bcolors.WARNING}****************** Error number of pdf files: {check} *****************************{bcolors.ENDC}\")\n",
                "\n",
                "# TODO: check files in  directory names for extra spaces and for capitals an jpg extentions...\n",
                "\n",
                "\n"
            ]
        },
        {
            "cell_type": "code",
            "execution_count": null,
            "metadata": {},
            "outputs": [],
            "source": []
        },
        {
            "cell_type": "code",
            "execution_count": 221,
            "metadata": {},
            "outputs": [
                {
                    "name": "stdout",
                    "output_type": "stream",
                    "text": [
                        "running with lxml.etree\n"
                    ]
                },
                {
                    "data": {
                        "text/plain": [
                            "<lxml.etree._ElementTree at 0x24fb2975288>"
                        ]
                    },
                    "execution_count": 221,
                    "metadata": {},
                    "output_type": "execute_result"
                }
            ],
            "source": [
                "# TODO: read h2k xml file\n",
                "# https://lxml.de/tutorial.html\n",
                "from lxml import etree\n",
                "try:\n",
                "  from lxml import etree\n",
                "  print(\"running with lxml.etree\")\n",
                "except ImportError:\n",
                "  try:\n",
                "    # Python 2.5\n",
                "    import xml.etree.cElementTree as etree\n",
                "    print(\"running with cElementTree on Python 2.5+\")\n",
                "  except ImportError:\n",
                "    try:\n",
                "      # Python 2.5\n",
                "      import xml.etree.ElementTree as etree\n",
                "      print(\"running with ElementTree on Python 2.5+\")\n",
                "    except ImportError:\n",
                "      try:\n",
                "        # normal cElementTree install\n",
                "        import cElementTree as etree\n",
                "        print(\"running with cElementTree\")\n",
                "      except ImportError:\n",
                "        try:\n",
                "          # normal ElementTree install\n",
                "          import elementtree.ElementTree as etree\n",
                "          print(\"running with ElementTree\")\n",
                "        except ImportError:\n",
                "          print(\"Failed to import ElementTree from any known place\")\n",
                "\n",
                "# https://stackoverflow.com/questions/42896807/how-to-parse-xml-from-local-file-or-url-with-lxml\n",
                "# https://lxml.de/parsing.html\n",
                "if inputDir.is_file():\n",
                "  tree = etree.parse(str(inputDir))\n",
                "else:\n",
                "  tree = etree.parse(str(files['*.h2k'][0]['file']))\n",
                "\n",
                "tree\n"
            ]
        },
        {
            "cell_type": "raw",
            "metadata": {},
            "source": [
                "# TODO: check for foundation is BCCB-4\n",
                " <Basement isExposedSurface=\"true\" exposedSurfacePerimeter=\"39.9297\" id=\"1\">\n",
                "                <Label>Foundation - 1</Label>\n",
                "                <Configuration type=\"BBIN\" subtype=\"1\" overlap=\"0\">BBIN_1</Configuration>\n",
                "                <OpeningUpstairs code=\"1\" value=\"1.5598\">\n",
                "                    <English>Standard door - open</English>\n",
                "                    <French>Porte standard - ouverte</French>\n",
                "                </OpeningUpstairs>\n",
                "                <RoomType code=\"7\">\n",
                "                    <English>Other</English>\n",
                "                    <French>Autre</French>\n",
                "                </RoomType>\n",
                "                <Floor>\n",
                "                    <Construction isBelowFrostline=\"true\" hasIntegralFooting=\"false\" heatedFloor=\"false\">\n",
                "                        <FloorsAbove idref=\"Code 17\" rValue=\"0.8064\" nominalInsulation=\"0\">4231001760</FloorsAbove>\n",
                "                    </Construction>\n",
                "                    <Measurements isRectangular=\"false\" area=\"96.0617\" perimeter=\"39.9297\" />\n",
                "                </Floor>\n",
                "                <Wall hasPonyWall=\"true\">\n",
                "                    <Construction corners=\"4\">\n",
                "                        <InteriorAddedInsulation idref=\"Code 18\" nominalInsulation=\"2.11\">\n",
                "                            <Description>210201</Description>\n",
                "                            <Composite>\n",
                "                                <Section rank=\"1\" percentage=\"100\" rsi=\"0\" nominalRsi=\"2.11\" />\n",
                "                            </Composite>\n",
                "                        </InteriorAddedInsulation>\n",
                "                        <Lintels idref=\"Code 10\">008</Lintels>\n",
                "                        <PonyWallType idref=\"Code 19\" nominalInsulation=\"3.1954\">\n",
                "                            <Description>1211501510</Description>\n",
                "                            <Composite>\n",
                "                                <Section rank=\"1\" percentage=\"100\" rsi=\"2.9826\" nominalRsi=\"3.1954\" />\n",
                "                            </Composite>\n",
                "                        </PonyWallType>\n",
                "                    </Construction>\n",
                "                    <Measurements height=\"2.1336\" depth=\"0.6096\" ponyWallHeight=\"1.4478\" />\n",
                "                </Wall>"
            ]
        },
        {
            "cell_type": "code",
            "execution_count": 224,
            "metadata": {},
            "outputs": [
                {
                    "name": "stdout",
                    "output_type": "stream",
                    "text": [
                        ".//ProgramInformation\n",
                        "Weather Info:('BRITISH COLUMBIA', 'VICTORIA UNIVERSITY')\n",
                        "File Info:({'evaluationDate': '2021-10-18'}, '5EXXD00007')\n",
                        "Program Info :\n",
                        "   Identification: 5EXXD00007\n",
                        "   PreviousFileId: None\n",
                        "   EnrollmentId: 0000000000\n",
                        "   Ownership: Dwelling private\n",
                        "   TaxNumber: 764.000182.000\n",
                        "   EnteredBy: Dion Hackett\n",
                        "   UserTelephone: 2505378828\n",
                        "   UserExtension: None\n",
                        "   CompanyTelephone: 7786790605\n",
                        "   CompanyExtension: None\n",
                        "   Company: Ridge energy\n",
                        "   BuilderName: bwfritzler@gmail.com\n",
                        "   HomeownerAuthorizationId: None\n",
                        "Client Info :\n",
                        "   Name: \n",
                        "                \n",
                        "    First: Byron \n",
                        "    Last: Fritzler \n",
                        "   Telephone: 403 894 8989\n",
                        "   StreetAddress: \n",
                        "                \n",
                        "Street Address\n",
                        "    Street: 405 East Point RD. \n",
                        "    City: Saturna Island \n",
                        "    Province: BRITISH COLUMBIA \n",
                        "    PostalCode: V0N 2Y0 \n",
                        "   MailingAddress: \n",
                        "                \n",
                        "Mailing Address\n",
                        "    Name: None \n",
                        "    Street: 405 East Point RD. \n",
                        "    City: Saturna Island \n",
                        "    Province: BRITISH COLUMBIA \n",
                        "    PostalCode: V0N 2Y0 \n"
                    ]
                }
            ],
            "source": [
                "p=r\"/\".join([r'./','Codes','Window','Standard','Code'])\n",
                "# p=r\"/\".join([r'./','Codes','Window','Standard'])\n",
                "\n",
                "p=\".//ProgramInformation\"\n",
                "print (p)\n",
                "t=tree.xpath(p)\n",
                "t=t[0]\n",
                "tl=t.getchildren()\n",
                "# [ (i.attrib,j.attrib, z.tag,z.attrib, y.text)  for i in tl for j in i.getchildren() for z in j.getchildren() for y in z.getchildren()]\n",
                "# [(i.getparent().getparent().tag,i.getparent().tag,i.getparent().getparent().tag) for i in tree.xpath(p)]\n",
                "# [(i.getparent().tag,i.attrib, i.tag, i.text) for i in tree.xpath(p)]\n",
                "l=[i.tag for  j in tl for i in list(j.getiterator())]\n",
                "\n",
                "weather=p+\"/\".join(['/Weather', 'Region','English'])\n",
                "fileInfo=p+\"/\".join(['/File'])\n",
                "weather=tree.xpath(p+\"/\".join(['/Weather', 'Region','English']))[0].text,tree.xpath(p+\"/\".join(['/Weather', 'Location','English']))[0].text\n",
                "print(f\"Weather Info:{weather}\")\n",
                "fileInfo=tree.xpath(p+\"/\".join(['/File']))[0].attrib,tree.xpath(p+\"/\".join(['/File', 'Identification']))[0].text\n",
                "print(f\"File Info:{fileInfo}\")\n",
                "tags=[i.tag for i in tree.xpath(p+\"/\".join(['/File']))[0]]\n",
                "tree.xpath(p+'/File')\n",
                "# [j for i in tree.xpath(p+'/File/'+tags[0]) for j in i]\n",
                "\n",
                "\n",
                "# TODO: display basic File data\n",
                "\n",
                "\n",
                "for f in tree.xpath(p+'/File'): \n",
                "  # for j in i]\n",
                "  print (f\"Program Info :\")\n",
                "  for t in f:\n",
                "    if t.tag=='Ownership':\n",
                "      print(f\"   {t.tag}: {t.find('English').text}\")\n",
                "    else:\n",
                "      print(f\"   {t.tag}: {t.text}\")\n",
                "\n",
                "\n",
                "# TODO: display basic customer data\n",
                "\n",
                "for f in tree.xpath(p+'/Client'): \n",
                "  print (f\"Client Info :\")\n",
                "  for t in f:\n",
                "    print(f\"   {t.tag}: {t.text}\")\n",
                "    if t.tag=='Name':\n",
                "      # print(\"Name\")\n",
                "      [print(f\"    {i.tag}: {i.text} \") for i in t.getchildren()]\n",
                "      # print(f\"   {t.tag}: First :{t.find('First').text}, Last : {t.find('Last').text} \")\n",
                "    if t.tag=='Telephone':\n",
                "      # ensure 9 numbers\n",
                "      if len(re.findall('[0-9]',t.text) )!= 10:\n",
                "        print(f\"   {bcolors.WARNING}****************** Phone number is incorrect:  *****************************{bcolors.ENDC}\")\n",
                "      # print(f\"   {t.tag}: {t.text}\")\n",
                "    \n",
                "    if t.tag=='StreetAddress':\n",
                "      # print(f\"   {t.tag}: First :{t.find('First').text}, Last : {t.find('Last').text} \")\n",
                "      print(\"Street Address\")\n",
                "      [print(f\"    {i.tag}: {i.text} \") for i in t.getchildren()]\n",
                "    if t.tag=='MailingAddress':\n",
                "      # print(f\"   {t.tag}: First :{t.find('First').text}, Last : {t.find('Last').text} \")\n",
                "      print(\"Mailing Address\")\n",
                "      [print(f\"    {i.tag}: {i.text} \") for i in t.getchildren()]\n",
                "    \n",
                "      \n",
                "\n",
                "\n",
                "# client=p+\"/\".join(['/File', 'Region','English'])\n",
                "# [i.text for i in tree.xpath('.//Weather') for j in i.]\n",
                "# subTags=[i.tag for i in tree.xpath(p)[0]]\n",
                "# tree.xpath(p+'/'+subTags[0])\n",
                "#  [i.tag for i in tree.xpath(p+subTags)[0][0]]\n",
                "\n",
                "# [i for i in subTags]\n",
                "# l\n"
            ]
        },
        {
            "cell_type": "code",
            "execution_count": null,
            "metadata": {},
            "outputs": [],
            "source": [
                "\n",
                "\n",
                "\n"
            ]
        },
        {
            "cell_type": "code",
            "execution_count": 223,
            "metadata": {},
            "outputs": [],
            "source": [
                "# TODO: check total ceiling area vs total floor/foundation areas\n",
                "\n",
                "# TODO: check total wall perimeters to total header perimeters\n",
                " "
            ]
        },
        {
            "cell_type": "code",
            "execution_count": null,
            "metadata": {},
            "outputs": [],
            "source": []
        },
        {
            "cell_type": "code",
            "execution_count": null,
            "metadata": {},
            "outputs": [],
            "source": [
                "# TODO: check all reqired files are uploaded"
            ]
        },
        {
            "cell_type": "code",
            "execution_count": null,
            "metadata": {},
            "outputs": [],
            "source": []
        }
    ],
    "metadata": {
        "interpreter": {
            "hash": "3d5ad42c181be9c376a40e759bb0dbc9f88d92fba1c7a779370573c3f3476b95"
        },
        "kernelspec": {
            "display_name": "Python 3.7.10 64-bit ('arons_enerybusiness': conda)",
            "name": "python3"
        },
        "language_info": {
            "codemirror_mode": {
                "name": "ipython",
                "version": 3
            },
            "file_extension": ".py",
            "mimetype": "text/x-python",
            "name": "python",
            "nbconvert_exporter": "python",
            "pygments_lexer": "ipython3",
            "version": "3.7.10"
        },
        "orig_nbformat": 4
    },
    "nbformat": 4,
    "nbformat_minor": 2
}

{
    "cells": [
        {
            "cell_type": "markdown",
            "metadata": {},
            "source": [
                "Hi Mike, this is a markdown cell\n",
                "\n",
                "you need to install the Jupyter from microsoft extension in Visual Studio Code (easiest) from the left panel - plugins  \n"
            ]
        },
        {
            "cell_type": "code",
            "execution_count": 2,
            "metadata": {},
            "outputs": [
                {
                    "data": {
                        "text/plain": [
                            "10"
                        ]
                    },
                    "execution_count": 2,
                    "metadata": {},
                    "output_type": "execute_result"
                }
            ],
            "source": [
                "1+2+3+4"
            ]
        },
        {
            "cell_type": "code",
            "execution_count": 146,
            "metadata": {},
            "outputs": [],
            "source": [
                "# TODO: import needed modules\n",
                "\n",
                "from lxml import etree\n",
                "import math as m\n",
                "import numpy as np\n",
                "import pandas as pd\n",
                "import attr\n",
                "import collections \n",
                "import pathlib as pl\n",
                "import re\n",
                "# for colored text\n",
                "class bcolors:\n",
                "    HEADER = '\\033[95m'\n",
                "    OKBLUE = '\\033[94m'\n",
                "    OKCYAN = '\\033[96m'\n",
                "    OKGREEN = '\\033[92m'\n",
                "    WARNING = '\\033[93m'\n",
                "    FAIL = '\\033[91m'\n",
                "    ENDC = '\\033[0m'\n",
                "    BOLD = '\\033[1m'\n",
                "    UNDERLINE = '\\033[4m'\n"
            ]
        },
        {
            "cell_type": "markdown",
            "metadata": {},
            "source": [
                "File Directories can be easily copied with the following procedure:\n",
                "1) open windows files manager and go to directory\n",
                "2) on the directory press and hold the shift key and left click the mouse and select - \"Copy as path\"\n",
                "3) key press \"control v\" below"
            ]
        },
        {
            "cell_type": "code",
            "execution_count": 18,
            "metadata": {},
            "outputs": [
                {
                    "data": {
                        "text/plain": [
                            "WindowsPath('C:/Users/arond/OneDrive/EA local files to upload when done/Working files/5EADD00001 - Randall, Elenor - 1821 Knutsford Place')"
                        ]
                    },
                    "execution_count": 18,
                    "metadata": {},
                    "output_type": "execute_result"
                }
            ],
            "source": [
                "# TODO: input QC dir\n",
                "inputDir=input(\"Input Dir Path to Be Checked\")\n",
                "inputDir=pl.Path(inputDir)\n",
                "# print(inputDir)\n",
                "inputDir"
            ]
        },
        {
            "cell_type": "code",
            "execution_count": 35,
            "metadata": {},
            "outputs": [
                {
                    "data": {
                        "text/plain": [
                            "{'*.h2k': [{'fileName': '5EADD00001.h2k',\n",
                            "   'file': WindowsPath('C:/Users/arond/OneDrive/EA local files to upload when done/Working files/5EADD00001 - Randall, Elenor - 1821 Knutsford Place/5EADD00001.h2k')},\n",
                            "  {'fileName': '5EXXD0003.h2k',\n",
                            "   'file': WindowsPath('C:/Users/arond/OneDrive/EA local files to upload when done/Working files/5EADD00001 - Randall, Elenor - 1821 Knutsford Place/5EXXD0003.h2k')}],\n",
                            " '*.jpg': [{'fileName': '5EADD00001 - Datasheet.jpg',\n",
                            "   'file': WindowsPath('C:/Users/arond/OneDrive/EA local files to upload when done/Working files/5EADD00001 - Randall, Elenor - 1821 Knutsford Place/5EADD00001 - Datasheet.jpg')},\n",
                            "  {'fileName': '5EXXD0003-ATTIC ACCESS.jpg',\n",
                            "   'file': WindowsPath('C:/Users/arond/OneDrive/EA local files to upload when done/Working files/5EADD00001 - Randall, Elenor - 1821 Knutsford Place/5EXXD0003-ATTIC ACCESS.jpg')},\n",
                            "  {'fileName': '5EXXD0003-BACK.jpg',\n",
                            "   'file': WindowsPath('C:/Users/arond/OneDrive/EA local files to upload when done/Working files/5EADD00001 - Randall, Elenor - 1821 Knutsford Place/5EXXD0003-BACK.jpg')},\n",
                            "  {'fileName': '5EXXD0003-BASEBOARD.jpg',\n",
                            "   'file': WindowsPath('C:/Users/arond/OneDrive/EA local files to upload when done/Working files/5EADD00001 - Randall, Elenor - 1821 Knutsford Place/5EXXD0003-BASEBOARD.jpg')},\n",
                            "  {'fileName': '5EXXD0003-DHW.jpg',\n",
                            "   'file': WindowsPath('C:/Users/arond/OneDrive/EA local files to upload when done/Working files/5EADD00001 - Randall, Elenor - 1821 Knutsford Place/5EXXD0003-DHW.jpg')},\n",
                            "  {'fileName': '5EXXD0003-FP.jpg',\n",
                            "   'file': WindowsPath('C:/Users/arond/OneDrive/EA local files to upload when done/Working files/5EADD00001 - Randall, Elenor - 1821 Knutsford Place/5EXXD0003-FP.jpg')},\n",
                            "  {'fileName': '5EXXD0003-FRONT.jpg',\n",
                            "   'file': WindowsPath('C:/Users/arond/OneDrive/EA local files to upload when done/Working files/5EADD00001 - Randall, Elenor - 1821 Knutsford Place/5EXXD0003-FRONT.jpg')},\n",
                            "  {'fileName': '5EXXD0003-LEFT.jpg',\n",
                            "   'file': WindowsPath('C:/Users/arond/OneDrive/EA local files to upload when done/Working files/5EADD00001 - Randall, Elenor - 1821 Knutsford Place/5EXXD0003-LEFT.jpg')},\n",
                            "  {'fileName': '5EXXD0003-LEFT_2.jpg',\n",
                            "   'file': WindowsPath('C:/Users/arond/OneDrive/EA local files to upload when done/Working files/5EADD00001 - Randall, Elenor - 1821 Knutsford Place/5EXXD0003-LEFT_2.jpg')},\n",
                            "  {'fileName': '5EXXD0003-RIGHT.jpg',\n",
                            "   'file': WindowsPath('C:/Users/arond/OneDrive/EA local files to upload when done/Working files/5EADD00001 - Randall, Elenor - 1821 Knutsford Place/5EXXD0003-RIGHT.jpg')}],\n",
                            " '*.pdf': [{'fileName': '5EXXD00003-DATASHEET.pdf',\n",
                            "   'file': WindowsPath('C:/Users/arond/OneDrive/EA local files to upload when done/Working files/5EADD00001 - Randall, Elenor - 1821 Knutsford Place/5EXXD00003-DATASHEET.pdf')},\n",
                            "  {'fileName': '5EXXD0003HOIS(EN).pdf',\n",
                            "   'file': WindowsPath('C:/Users/arond/OneDrive/EA local files to upload when done/Working files/5EADD00001 - Randall, Elenor - 1821 Knutsford Place/5EXXD0003HOIS(EN).pdf')},\n",
                            "  {'fileName': '5EXXD0003LBL(EN).pdf',\n",
                            "   'file': WindowsPath('C:/Users/arond/OneDrive/EA local files to upload when done/Working files/5EADD00001 - Randall, Elenor - 1821 Knutsford Place/5EXXD0003LBL(EN).pdf')},\n",
                            "  {'fileName': '5EXXD0003SRUR(EN).pdf',\n",
                            "   'file': WindowsPath('C:/Users/arond/OneDrive/EA local files to upload when done/Working files/5EADD00001 - Randall, Elenor - 1821 Knutsford Place/5EXXD0003SRUR(EN).pdf')}]}"
                        ]
                    },
                    "execution_count": 35,
                    "metadata": {},
                    "output_type": "execute_result"
                }
            ],
            "source": [
                "# TODO: check dir for h2k files\n",
                "def get_files(extensions):\n",
                "    all_files = {}\n",
                "    for ext in extensions:\n",
                "        \n",
                "        all_files[ext]=[{\"fileName\":f.name,'file':f} for f in (inputDir.glob(ext))]\n",
                "        # all_files.extend(pl.Path('.').glob(ext))\n",
                "    return all_files\n",
                "\n",
                "files = get_files(('*.h2k', '*.jpg', '*.pdf'))\n",
                "files\n",
                "# TODO: warn of extra h2k files\n",
                "\n",
                "# TODO: warn of missing required photos\n",
                "\n",
                "# TODO: warn of missing ERS output files"
            ]
        },
        {
            "cell_type": "code",
            "execution_count": 37,
            "metadata": {},
            "outputs": [
                {
                    "data": {
                        "text/plain": [
                            "WindowsPath('C:/Users/arond/OneDrive/EA local files to upload when done/Working files/5EADD00001 - Randall, Elenor - 1821 Knutsford Place/5EADD00001.h2k')"
                        ]
                    },
                    "execution_count": 37,
                    "metadata": {},
                    "output_type": "execute_result"
                }
            ],
            "source": []
        },
        {
            "cell_type": "code",
            "execution_count": 39,
            "metadata": {},
            "outputs": [
                {
                    "name": "stdout",
                    "output_type": "stream",
                    "text": [
                        "running with lxml.etree\n"
                    ]
                },
                {
                    "data": {
                        "text/plain": [
                            "<lxml.etree._ElementTree at 0x24fa1293b88>"
                        ]
                    },
                    "execution_count": 39,
                    "metadata": {},
                    "output_type": "execute_result"
                }
            ],
            "source": [
                "# TODO: read h2k xml file\n",
                "# https://lxml.de/tutorial.html\n",
                "from lxml import etree\n",
                "try:\n",
                "  from lxml import etree\n",
                "  print(\"running with lxml.etree\")\n",
                "except ImportError:\n",
                "  try:\n",
                "    # Python 2.5\n",
                "    import xml.etree.cElementTree as etree\n",
                "    print(\"running with cElementTree on Python 2.5+\")\n",
                "  except ImportError:\n",
                "    try:\n",
                "      # Python 2.5\n",
                "      import xml.etree.ElementTree as etree\n",
                "      print(\"running with ElementTree on Python 2.5+\")\n",
                "    except ImportError:\n",
                "      try:\n",
                "        # normal cElementTree install\n",
                "        import cElementTree as etree\n",
                "        print(\"running with cElementTree\")\n",
                "      except ImportError:\n",
                "        try:\n",
                "          # normal ElementTree install\n",
                "          import elementtree.ElementTree as etree\n",
                "          print(\"running with ElementTree\")\n",
                "        except ImportError:\n",
                "          print(\"Failed to import ElementTree from any known place\")\n",
                "\n",
                "# https://stackoverflow.com/questions/42896807/how-to-parse-xml-from-local-file-or-url-with-lxml\n",
                "# https://lxml.de/parsing.html\n",
                "tree = etree.parse(str(files['*.h2k'][0]['file']))\n",
                "tree\n"
            ]
        },
        {
            "cell_type": "code",
            "execution_count": 155,
            "metadata": {},
            "outputs": [
                {
                    "name": "stdout",
                    "output_type": "stream",
                    "text": [
                        ".//ProgramInformation\n",
                        "Weather Info:('BRITISH COLUMBIA', 'ABBOTSFORD')\n",
                        "File Info:({'evaluationDate': '2021-10-11'}, 'Chris ')\n",
                        "Program Info :\n",
                        "   Identification: Chris \n",
                        "   PreviousFileId: None\n",
                        "   EnrollmentId: None\n",
                        "   Ownership: Dwelling private\n",
                        "   TaxNumber: 01-332-00657-000\n",
                        "   EnteredBy: Aron Dalton\n",
                        "   UserTelephone: 250-221-1127\n",
                        "   UserExtension: None\n",
                        "   CompanyTelephone: None\n",
                        "   CompanyExtension: None\n",
                        "   Company: Ridge Energy\n",
                        "   BuilderName: None\n",
                        "   HomeownerAuthorizationId: None\n",
                        "Client Info :\n",
                        "   Name: First :Chris , Last : Waller \n",
                        "   Name: \n",
                        "                \n",
                        "   \u001b[93m****************** Phone number is incorrect:  *****************************\u001b[0m\n",
                        "   Telephone: (604) 723-51\n",
                        "   StreetAddress: \n",
                        "                \n",
                        "   MailingAddress: \n",
                        "                \n"
                    ]
                }
            ],
            "source": [
                "p=r\"/\".join([r'./','Codes','Window','Standard','Code'])\n",
                "# p=r\"/\".join([r'./','Codes','Window','Standard'])\n",
                "\n",
                "p=\".//ProgramInformation\"\n",
                "print (p)\n",
                "t=tree.xpath(p)\n",
                "t=t[0]\n",
                "tl=t.getchildren()\n",
                "# [ (i.attrib,j.attrib, z.tag,z.attrib, y.text)  for i in tl for j in i.getchildren() for z in j.getchildren() for y in z.getchildren()]\n",
                "# [(i.getparent().getparent().tag,i.getparent().tag,i.getparent().getparent().tag) for i in tree.xpath(p)]\n",
                "# [(i.getparent().tag,i.attrib, i.tag, i.text) for i in tree.xpath(p)]\n",
                "l=[i.tag for  j in tl for i in list(j.getiterator())]\n",
                "\n",
                "weather=p+\"/\".join(['/Weather', 'Region','English'])\n",
                "fileInfo=p+\"/\".join(['/File'])\n",
                "weather=tree.xpath(p+\"/\".join(['/Weather', 'Region','English']))[0].text,tree.xpath(p+\"/\".join(['/Weather', 'Location','English']))[0].text\n",
                "print(f\"Weather Info:{weather}\")\n",
                "fileInfo=tree.xpath(p+\"/\".join(['/File']))[0].attrib,tree.xpath(p+\"/\".join(['/File', 'Identification']))[0].text\n",
                "print(f\"File Info:{fileInfo}\")\n",
                "tags=[i.tag for i in tree.xpath(p+\"/\".join(['/File']))[0]]\n",
                "tree.xpath(p+'/File')\n",
                "# [j for i in tree.xpath(p+'/File/'+tags[0]) for j in i]\n",
                "\n",
                "\n",
                "# TODO: display basic File data\n",
                "\n",
                "\n",
                "for f in tree.xpath(p+'/File'): \n",
                "  # for j in i]\n",
                "  print (f\"Program Info :\")\n",
                "  for t in f:\n",
                "    if t.tag=='Ownership':\n",
                "      print(f\"   {t.tag}: {t.find('English').text}\")\n",
                "    else:\n",
                "      print(f\"   {t.tag}: {t.text}\")\n",
                "\n",
                "\n",
                "# TODO: display basic customer data\n",
                "\n",
                "for f in tree.xpath(p+'/Client'): \n",
                "  print (f\"Client Info :\")\n",
                "  for t in f:\n",
                "    if t.tag=='Name':\n",
                "      print(f\"   {t.tag}: First :{t.find('First').text}, Last : {t.find('Last').text} \")\n",
                "    if t.tag=='Telephone':\n",
                "      # ensure 9 numbers\n",
                "      if len(re.findall('[0-9]',t.text) )!= 9:\n",
                "        print(f\"   {bcolors.WARNING}****************** Phone number is incorrect:  *****************************{bcolors.ENDC}\")\n",
                "      print(f\"   {t.tag}: {t.text}\")\n",
                "    else:\n",
                "      print(f\"   {t.tag}: {t.text}\")\n",
                "\n",
                "\n",
                "# client=p+\"/\".join(['/File', 'Region','English'])\n",
                "# [i.text for i in tree.xpath('.//Weather') for j in i.]\n",
                "# subTags=[i.tag for i in tree.xpath(p)[0]]\n",
                "# tree.xpath(p+'/'+subTags[0])\n",
                "#  [i.tag for i in tree.xpath(p+subTags)[0][0]]\n",
                "\n",
                "# [i for i in subTags]\n",
                "# l\n"
            ]
        },
        {
            "cell_type": "code",
            "execution_count": null,
            "metadata": {},
            "outputs": [],
            "source": [
                "\n",
                "\n",
                "\n"
            ]
        },
        {
            "cell_type": "code",
            "execution_count": null,
            "metadata": {},
            "outputs": [],
            "source": []
        },
        {
            "cell_type": "code",
            "execution_count": null,
            "metadata": {},
            "outputs": [],
            "source": [
                "# TODO: check files in  directory names for extra spaces an jpg extentions..."
            ]
        },
        {
            "cell_type": "code",
            "execution_count": 2,
            "metadata": {},
            "outputs": [],
            "source": [
                "# TODO: check all reqired files are uploaded"
            ]
        },
        {
            "cell_type": "code",
            "execution_count": null,
            "metadata": {},
            "outputs": [],
            "source": []
        }
    ],
    "metadata": {
        "interpreter": {
            "hash": "3d5ad42c181be9c376a40e759bb0dbc9f88d92fba1c7a779370573c3f3476b95"
        },
        "kernelspec": {
            "display_name": "Python 3.7.10 64-bit ('arons_enerybusiness': conda)",
            "name": "python3"
        },
        "language_info": {
            "codemirror_mode": {
                "name": "ipython",
                "version": 3
            },
            "file_extension": ".py",
            "mimetype": "text/x-python",
            "name": "python",
            "nbconvert_exporter": "python",
            "pygments_lexer": "ipython3",
            "version": "3.7.10"
        },
        "orig_nbformat": 4
    },
    "nbformat": 4,
    "nbformat_minor": 2
}

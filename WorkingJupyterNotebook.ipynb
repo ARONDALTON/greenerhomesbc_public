{
    "cells": [
        {
            "cell_type": "markdown",
            "metadata": {},
            "source": [
                "Hi Mike, this is a markdown cell\n",
                "\n",
                "you need to install the Jupyter from microsoft extension in Visual Studio Code (easiest) from the left panel - plugins  \n"
            ]
        },
        {
            "cell_type": "code",
            "execution_count": 2,
            "metadata": {},
            "outputs": [
                {
                    "data": {
                        "text/plain": [
                            "10"
                        ]
                    },
                    "execution_count": 2,
                    "metadata": {},
                    "output_type": "execute_result"
                }
            ],
            "source": [
                "1+2+3+4"
            ]
        },
        {
            "cell_type": "code",
            "execution_count": 10,
            "metadata": {},
            "outputs": [],
            "source": [
                "# TODO: import needed modules\n",
                "\n",
                "from lxml import etree\n",
                "import math as m\n",
                "import numpy as np\n",
                "import pandas as pd\n",
                "import attr\n",
                "import collections \n",
                "import pathlib as pl"
            ]
        },
        {
            "cell_type": "markdown",
            "metadata": {},
            "source": [
                "File Directories can be easily copied with the following procedure:\n",
                "1) open windows files manager and go to directory\n",
                "2) on the directory press and hold the shift key and left click the mouse and select - \"Copy as path\"\n",
                "3) key press \"control v\" below"
            ]
        },
        {
            "cell_type": "code",
            "execution_count": 12,
            "metadata": {},
            "outputs": [
                {
                    "name": "stdout",
                    "output_type": "stream",
                    "text": [
                        "\"C:\\Users\\arond\\OneDrive\\EA local files to upload when done\\Working files\\5EADD00001 - Randall, Elenor - 1821 Knutsford Place\"\n"
                    ]
                }
            ],
            "source": [
                "# TODO: input QC dir\n",
                "inputDir=input(\"Input Dir Path to Be Checked\")\n",
                "inputDir=pl.Path(inputDir)\n",
                "print(inputDir)"
            ]
        },
        {
            "cell_type": "code",
            "execution_count": 13,
            "metadata": {},
            "outputs": [],
            "source": [
                "# TODO: check dir for h2k files"
            ]
        },
        {
            "cell_type": "code",
            "execution_count": null,
            "metadata": {},
            "outputs": [],
            "source": [
                "# TODO: read h2k xml file\n",
                "\n",
                "# TODO: display basic customer data\n",
                "\n",
                "\n"
            ]
        },
        {
            "cell_type": "code",
            "execution_count": null,
            "metadata": {},
            "outputs": [],
            "source": [
                "# TODO: check files in  directory names for extra spaces an jpg extentions..."
            ]
        },
        {
            "cell_type": "code",
            "execution_count": 2,
            "metadata": {},
            "outputs": [],
            "source": [
                "# TODO: check all reqired files are uploaded"
            ]
        },
        {
            "cell_type": "code",
            "execution_count": null,
            "metadata": {},
            "outputs": [],
            "source": []
        }
    ],
    "metadata": {
        "interpreter": {
            "hash": "3d5ad42c181be9c376a40e759bb0dbc9f88d92fba1c7a779370573c3f3476b95"
        },
        "kernelspec": {
            "display_name": "Python 3.7.10 64-bit ('arons_enerybusiness': conda)",
            "name": "python3"
        },
        "language_info": {
            "codemirror_mode": {
                "name": "ipython",
                "version": 3
            },
            "file_extension": ".py",
            "mimetype": "text/x-python",
            "name": "python",
            "nbconvert_exporter": "python",
            "pygments_lexer": "ipython3",
            "version": "3.7.10"
        },
        "orig_nbformat": 4
    },
    "nbformat": 4,
    "nbformat_minor": 2
}
